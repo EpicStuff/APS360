{
 "cells": [
  {
   "cell_type": "code",
   "execution_count": 6,
   "metadata": {},
   "outputs": [],
   "source": [
    "import numpy as np\n",
    "import matplotlib.pyplot as plt\n",
    "from torch.utils.data import DataLoader\n",
    "from sklearn.ensemble import RandomForestClassifier\n",
    "from sklearn.metrics import accuracy_score"
   ]
  },
  {
   "cell_type": "code",
   "execution_count": 2,
   "metadata": {},
   "outputs": [
    {
     "data": {
      "text/html": [
       "<pre style=\"white-space:pre;overflow-x:auto;line-height:normal;font-family:Menlo,'DejaVu Sans Mono',consolas,'Courier New',monospace\">C:\\Users\\dell\\AppData\\Roaming\\Python\\Python310\\site-packages\\rich\\live.py:231: UserWarning: install \"ipywidgets\" \n",
       "for Jupyter support\n",
       "  warnings.warn('install \"ipywidgets\" for Jupyter support')\n",
       "</pre>\n"
      ],
      "text/plain": [
       "C:\\Users\\dell\\AppData\\Roaming\\Python\\Python310\\site-packages\\rich\\live.py:231: UserWarning: install \"ipywidgets\" \n",
       "for Jupyter support\n",
       "  warnings.warn('install \"ipywidgets\" for Jupyter support')\n"
      ]
     },
     "metadata": {},
     "output_type": "display_data"
    },
    {
     "data": {
      "text/html": [
       "<pre style=\"white-space:pre;overflow-x:auto;line-height:normal;font-family:Menlo,'DejaVu Sans Mono',consolas,'Courier New',monospace\"></pre>\n"
      ],
      "text/plain": []
     },
     "metadata": {},
     "output_type": "display_data"
    },
    {
     "data": {
      "text/html": [
       "<pre style=\"white-space:pre;overflow-x:auto;line-height:normal;font-family:Menlo,'DejaVu Sans Mono',consolas,'Courier New',monospace\">\n",
       "</pre>\n"
      ],
      "text/plain": [
       "\n"
      ]
     },
     "metadata": {},
     "output_type": "display_data"
    },
    {
     "data": {
      "text/html": [
       "<pre style=\"white-space:pre;overflow-x:auto;line-height:normal;font-family:Menlo,'DejaVu Sans Mono',consolas,'Courier New',monospace\"></pre>\n"
      ],
      "text/plain": []
     },
     "metadata": {},
     "output_type": "display_data"
    },
    {
     "data": {
      "text/html": [
       "<pre style=\"white-space:pre;overflow-x:auto;line-height:normal;font-family:Menlo,'DejaVu Sans Mono',consolas,'Courier New',monospace\">\n",
       "</pre>\n"
      ],
      "text/plain": [
       "\n"
      ]
     },
     "metadata": {},
     "output_type": "display_data"
    },
    {
     "data": {
      "text/html": [
       "<pre style=\"white-space:pre;overflow-x:auto;line-height:normal;font-family:Menlo,'DejaVu Sans Mono',consolas,'Courier New',monospace\"></pre>\n"
      ],
      "text/plain": []
     },
     "metadata": {},
     "output_type": "display_data"
    },
    {
     "data": {
      "text/html": [
       "<pre style=\"white-space:pre;overflow-x:auto;line-height:normal;font-family:Menlo,'DejaVu Sans Mono',consolas,'Courier New',monospace\">\n",
       "</pre>\n"
      ],
      "text/plain": [
       "\n"
      ]
     },
     "metadata": {},
     "output_type": "display_data"
    }
   ],
   "source": [
    "from main import load_data\n",
    "from main import CombinedDataset\n",
    "# loads data, you will have to generate the data first\n",
    "train_dataset, valid_dataset, test_dataset = load_data(['train', 'valid', 'test'], compression='')\n"
   ]
  },
  {
   "cell_type": "code",
   "execution_count": 12,
   "metadata": {},
   "outputs": [],
   "source": [
    "#Define Labels and images\n",
    "def inputs(train_dataset,test_dataset):\n",
    "    labels_train = train_dataset.labels\n",
    "    labels_test = test_dataset.labels\n",
    "\n",
    "    images_test = np.array(test_dataset.images)\n",
    "    images_train = np.array(train_dataset.images)\n",
    "   \n",
    "    return labels_train, labels_test,images_test, images_train"
   ]
  },
  {
   "cell_type": "code",
   "execution_count": 17,
   "metadata": {},
   "outputs": [],
   "source": [
    "def train_baseline_model(train_dataset,test_dataset):\n",
    "    labels_train, labels_test,images_test, images_train = inputs(train_dataset,test_dataset)\n",
    "    test_accuracy = []\n",
    "    I = []\n",
    "    train_accuracy=[]\n",
    "\n",
    "    for i in range(200,600,50):\n",
    "        np.random.seed(12)\n",
    "        rf = RandomForestClassifier()\n",
    "        x_train, y_train = np.array(images_train[:i]).flatten().reshape(i, -1), labels_train[:i]\n",
    "        rf.fit(x_train, y_train)\n",
    "\n",
    "        x_test, y_test = np.array(images_test[:100]).flatten().reshape(100, -1), labels_test[:100]\n",
    "\n",
    "        accuracy_score1 = accuracy_score(rf.predict(x_test), y_test)\n",
    "        accuracy_score2 = rf.score(x_train,y_train)\n",
    "\n",
    "        train_accuracy.append(accuracy_score2*100)\n",
    "        test_accuracy.append(accuracy_score1*100)\n",
    "\n",
    "        I.append(i)\n",
    "    #plt.scatter(I,train_accuracy)\n",
    "    plt.scatter(I,test_accuracy)\n",
    "    plt.title('Baseline Model Accuracy')\n",
    "    plt.xlabel('Number of train input')\n",
    "    plt.ylabel('Accuracy %')\n",
    "    print(f'The highest test accuracy that this model can achieve is {max(test_accuracy)}')\n",
    "    print(f'The average train accuracy that the basline model can achieve is {sum(train_accuracy)/len(train_accuracy)}')\n",
    "\n",
    "\n"
   ]
  },
  {
   "cell_type": "code",
   "execution_count": 18,
   "metadata": {},
   "outputs": [],
   "source": [
    "train_baseline_model(train_dataset,test_dataset)"
   ]
  }
 ],
 "metadata": {
  "kernelspec": {
   "display_name": "Python 3",
   "language": "python",
   "name": "python3"
  },
  "language_info": {
   "codemirror_mode": {
    "name": "ipython",
    "version": 3
   },
   "file_extension": ".py",
   "mimetype": "text/x-python",
   "name": "python",
   "nbconvert_exporter": "python",
   "pygments_lexer": "ipython3",
   "version": "3.10.4"
  },
  "orig_nbformat": 4
 },
 "nbformat": 4,
 "nbformat_minor": 2
}
