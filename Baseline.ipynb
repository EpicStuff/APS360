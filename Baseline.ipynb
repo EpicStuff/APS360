{
 "cells": [
  {
   "cell_type": "code",
   "execution_count": null,
   "metadata": {},
   "outputs": [],
   "source": [
    "import numpy as np\n",
    "import time\n",
    "import os"
   ]
  },
  {
   "cell_type": "code",
   "execution_count": null,
   "metadata": {},
   "outputs": [],
   "source": [
    "import torch, torchinfo, stuff, fastai.callback.schedule\n",
    "from typing import Tuple\n",
    "from torch import nn\n",
    "from torch.utils.data import DataLoader, Dataset\n",
    "from fastai.callback.all import ShowGraphCallback, EarlyStoppingCallback, CSVLogger, SaveModelCallback\n",
    "from fastai.optimizer import OptimWrapper\n",
    "from fastai.metrics import accuracy\n",
    "from fastai.learner import Learner\n",
    "from fastai.data.core import DataLoaders\n",
    "from functools import partial as wrap"
   ]
  },
  {
   "cell_type": "code",
   "execution_count": null,
   "metadata": {},
   "outputs": [],
   "source": [
    "from torch.utils.data import DataLoader\n",
    "from sklearn.ensemble import RandomForestClassifier\n",
    "\n",
    "model = RandomForestClassifier()\n",
    "x_train, y_train = np.array(images_train[:500]).flatten().reshape(500, -1), labels_train[:500]\n",
    "model.fit(x_train, y_train)\n"
   ]
  },
  {
   "cell_type": "code",
   "execution_count": null,
   "metadata": {},
   "outputs": [],
   "source": [
    "from sklearn.metrics import accuracy_score\n",
    "\n",
    "x_test, y_test = np.array(images_test[:10]).flatten().reshape(10, -1), labels_test[:10]\n",
    "\n",
    "accuracy_score(model.predict(x_test), y_test)\n",
    "# model.predict(x_test), y_test"
   ]
  }
 ],
 "metadata": {
  "language_info": {
   "name": "python"
  },
  "orig_nbformat": 4
 },
 "nbformat": 4,
 "nbformat_minor": 2
}
