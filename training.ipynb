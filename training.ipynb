{
 "cells": [
  {
   "cell_type": "code",
   "execution_count": 30,
   "metadata": {},
   "outputs": [],
   "source": [
    "from main import *"
   ]
  },
  {
   "cell_type": "code",
   "execution_count": 31,
   "metadata": {},
   "outputs": [
    {
     "data": {
      "application/vnd.jupyter.widget-view+json": {
       "model_id": "875878d8d31540499c3321012f95d869",
       "version_major": 2,
       "version_minor": 0
      },
      "text/plain": [
       "Output()"
      ]
     },
     "metadata": {},
     "output_type": "display_data"
    },
    {
     "data": {
      "text/html": [
       "<pre style=\"white-space:pre;overflow-x:auto;line-height:normal;font-family:Menlo,'DejaVu Sans Mono',consolas,'Courier New',monospace\"></pre>\n"
      ],
      "text/plain": []
     },
     "metadata": {},
     "output_type": "display_data"
    },
    {
     "data": {
      "text/html": [
       "<pre style=\"white-space:pre;overflow-x:auto;line-height:normal;font-family:Menlo,'DejaVu Sans Mono',consolas,'Courier New',monospace\">\n",
       "</pre>\n"
      ],
      "text/plain": [
       "\n"
      ]
     },
     "metadata": {},
     "output_type": "display_data"
    },
    {
     "data": {
      "application/vnd.jupyter.widget-view+json": {
       "model_id": "7b579290126646928f8bed33476c73df",
       "version_major": 2,
       "version_minor": 0
      },
      "text/plain": [
       "Output()"
      ]
     },
     "metadata": {},
     "output_type": "display_data"
    },
    {
     "data": {
      "text/html": [
       "<pre style=\"white-space:pre;overflow-x:auto;line-height:normal;font-family:Menlo,'DejaVu Sans Mono',consolas,'Courier New',monospace\"></pre>\n"
      ],
      "text/plain": []
     },
     "metadata": {},
     "output_type": "display_data"
    },
    {
     "data": {
      "text/html": [
       "<pre style=\"white-space:pre;overflow-x:auto;line-height:normal;font-family:Menlo,'DejaVu Sans Mono',consolas,'Courier New',monospace\">\n",
       "</pre>\n"
      ],
      "text/plain": [
       "\n"
      ]
     },
     "metadata": {},
     "output_type": "display_data"
    }
   ],
   "source": [
    "# load data\n",
    "data_train, data_val = load_data(compression='')"
   ]
  },
  {
   "cell_type": "code",
   "execution_count": 43,
   "metadata": {},
   "outputs": [
    {
     "data": {
      "text/html": [
       "\n",
       "<style>\n",
       "    /* Turns off some styling */\n",
       "    progress {\n",
       "        /* gets rid of default border in Firefox and Opera. */\n",
       "        border: none;\n",
       "        /* Needs to be in here for Safari polyfill so background images work as expected. */\n",
       "        background-size: auto;\n",
       "    }\n",
       "    progress:not([value]), progress:not([value])::-webkit-progress-bar {\n",
       "        background: repeating-linear-gradient(45deg, #7e7e7e, #7e7e7e 10px, #5c5c5c 10px, #5c5c5c 20px);\n",
       "    }\n",
       "    .progress-bar-interrupted, .progress-bar-interrupted::-webkit-progress-bar {\n",
       "        background: #F44336;\n",
       "    }\n",
       "</style>\n"
      ],
      "text/plain": [
       "<IPython.core.display.HTML object>"
      ]
     },
     "metadata": {},
     "output_type": "display_data"
    },
    {
     "data": {
      "text/html": [],
      "text/plain": [
       "<IPython.core.display.HTML object>"
      ]
     },
     "metadata": {},
     "output_type": "display_data"
    },
    {
     "name": "stdout",
     "output_type": "stream",
     "text": [
      "Better model found at epoch 0 with valid_loss value: 1.9957576990127563.\n"
     ]
    },
    {
     "data": {
      "image/png": "[encoded data removed]",
      "text/plain": [
       "<Figure size 600x400 with 1 Axes>"
      ]
     },
     "metadata": {},
     "output_type": "display_data"
    },
    {
     "name": "stdout",
     "output_type": "stream",
     "text": [
      "Better model found at epoch 7 with valid_loss value: 1.995307445526123.\n",
      "Better model found at epoch 11 with valid_loss value: 1.9952316284179688.\n",
      "Better model found at epoch 18 with valid_loss value: 1.9952093362808228.\n",
      "Better model found at epoch 28 with valid_loss value: 1.994814157485962.\n",
      "No improvement since epoch 28: early stopping\n"
     ]
    }
   ],
   "source": [
    "# reproducibility\n",
    "stuff.manual_seed(64, True)\n",
    "# hyperparameters, you should also tweak the layers in the model\n",
    "batch_size = 64\n",
    "num_epochs = 50\n",
    "loss = torch.nn.CrossEntropyLoss\n",
    "opt = torch.optim.Adam\n",
    "# parent = alexnet(weights=AlexNet_Weights.DEFAULT).features  # not the actual model but the model were transferring learning from\n",
    "parent = m.resnet18(weights='DEFAULT')  # to change the model to transfer learning from, just pick one from the link i sent you, take a look at the layers\n",
    "parent.fc = nn.Identity()  # remove or only select desired layers\n",
    "dropout_prob = 0.3\n",
    "# init model and train\n",
    "model = Model(dropout_prob, parent, 512)\n",
    "# training\n",
    "name = stuff.generate_name(batch_size, loss, opt, 'alexnet', dropout_prob)\n",
    "learner = train(name, model, num_epochs, batch_size, data_train, data_val, loss, opt)"
   ]
  },
  {
   "cell_type": "code",
   "execution_count": 45,
   "metadata": {},
   "outputs": [
    {
     "data": {
      "text/plain": [
       "======================================================================\n",
       "Layer (type:depth-idx)                        Param #\n",
       "======================================================================\n",
       "Model                                         --\n",
       "├─ResNet: 1-1                                 --\n",
       "│    └─Conv2d: 2-1                            9,408\n",
       "│    └─BatchNorm2d: 2-2                       128\n",
       "│    └─ReLU: 2-3                              --\n",
       "│    └─MaxPool2d: 2-4                         --\n",
       "│    └─Sequential: 2-5                        --\n",
       "│    │    └─BasicBlock: 3-1                   73,984\n",
       "│    │    └─BasicBlock: 3-2                   73,984\n",
       "│    └─Sequential: 2-6                        --\n",
       "│    │    └─BasicBlock: 3-3                   230,144\n",
       "│    │    └─BasicBlock: 3-4                   295,424\n",
       "│    └─Sequential: 2-7                        --\n",
       "│    │    └─BasicBlock: 3-5                   919,040\n",
       "│    │    └─BasicBlock: 3-6                   1,180,672\n",
       "│    └─Sequential: 2-8                        --\n",
       "│    │    └─BasicBlock: 3-7                   3,673,088\n",
       "│    │    └─BasicBlock: 3-8                   4,720,640\n",
       "│    └─AdaptiveAvgPool2d: 2-9                 --\n",
       "│    └─Identity: 2-10                         --\n",
       "├─Sequential: 1-2                             --\n",
       "│    └─Flatten: 2-11                          --\n",
       "├─Sequential: 1-3                             --\n",
       "│    └─Linear: 2-12                           525,312\n",
       "│    └─Dropout: 2-13                          --\n",
       "│    └─ReLU: 2-14                             --\n",
       "│    └─Linear: 2-15                           524,800\n",
       "│    └─Dropout: 2-16                          --\n",
       "│    └─ReLU: 2-17                             --\n",
       "│    └─Linear: 2-18                           3,591\n",
       "======================================================================\n",
       "Total params: 12,230,215\n",
       "Trainable params: 12,230,215\n",
       "Non-trainable params: 0\n",
       "======================================================================"
      ]
     },
     "execution_count": 45,
     "metadata": {},
     "output_type": "execute_result"
    }
   ],
   "source": [
    "summary(learner.model)"
   ]
  },
  {
   "cell_type": "code",
   "execution_count": null,
   "metadata": {},
   "outputs": [],
   "source": []
  }
 ],
 "metadata": {
  "kernelspec": {
   "display_name": "Python 3",
   "language": "python",
   "name": "python3"
  },
  "language_info": {
   "codemirror_mode": {
    "name": "ipython",
    "version": 3
   },
   "file_extension": ".py",
   "mimetype": "text/x-python",
   "name": "python",
   "nbconvert_exporter": "python",
   "pygments_lexer": "ipython3",
   "version": "3.11.4"
  },
  "orig_nbformat": 4
 },
 "nbformat": 4,
 "nbformat_minor": 2
}
