{
 "cells": [
  {
   "cell_type": "code",
   "execution_count": 4,
   "metadata": {},
   "outputs": [],
   "source": [
    "from main import *"
   ]
  },
  {
   "cell_type": "code",
   "execution_count": 2,
   "metadata": {},
   "outputs": [
    {
     "data": {
      "application/vnd.jupyter.widget-view+json": {
       "model_id": "97720baebb32461797de10ac77b90e9b",
       "version_major": 2,
       "version_minor": 0
      },
      "text/plain": [
       "Output()"
      ]
     },
     "metadata": {},
     "output_type": "display_data"
    },
    {
     "data": {
      "text/html": [
       "<pre style=\"white-space:pre;overflow-x:auto;line-height:normal;font-family:Menlo,'DejaVu Sans Mono',consolas,'Courier New',monospace\"></pre>\n"
      ],
      "text/plain": []
     },
     "metadata": {},
     "output_type": "display_data"
    },
    {
     "data": {
      "text/html": [
       "<pre style=\"white-space:pre;overflow-x:auto;line-height:normal;font-family:Menlo,'DejaVu Sans Mono',consolas,'Courier New',monospace\">\n",
       "</pre>\n"
      ],
      "text/plain": [
       "\n"
      ]
     },
     "metadata": {},
     "output_type": "display_data"
    },
    {
     "data": {
      "application/vnd.jupyter.widget-view+json": {
       "model_id": "f0a207cbc51444009a4675d75cf0ee4b",
       "version_major": 2,
       "version_minor": 0
      },
      "text/plain": [
       "Output()"
      ]
     },
     "metadata": {},
     "output_type": "display_data"
    },
    {
     "data": {
      "text/html": [
       "<pre style=\"white-space:pre;overflow-x:auto;line-height:normal;font-family:Menlo,'DejaVu Sans Mono',consolas,'Courier New',monospace\"></pre>\n"
      ],
      "text/plain": []
     },
     "metadata": {},
     "output_type": "display_data"
    },
    {
     "data": {
      "text/html": [
       "<pre style=\"white-space:pre;overflow-x:auto;line-height:normal;font-family:Menlo,'DejaVu Sans Mono',consolas,'Courier New',monospace\">\n",
       "</pre>\n"
      ],
      "text/plain": [
       "\n"
      ]
     },
     "metadata": {},
     "output_type": "display_data"
    }
   ],
   "source": [
    "# load data\n",
    "data = list(load_data(compression=''))"
   ]
  },
  {
   "cell_type": "code",
   "execution_count": 6,
   "metadata": {},
   "outputs": [
    {
     "name": "stdout",
     "output_type": "stream",
     "text": [
      "====================================================================================================\n",
      "Layer (type:depth-idx)                             Output Shape              Param #\n",
      "====================================================================================================\n",
      "Model                                              [1, 7]                    --\n",
      "├─ConvNeXt: 1-1                                    [1, 1024]                 --\n",
      "│    └─Sequential: 2-1                             [1, 1024, 7, 7]           --\n",
      "│    │    └─Conv2dNormActivation: 3-1              [1, 128, 56, 56]          6,528\n",
      "│    │    └─Sequential: 3-2                        [1, 128, 56, 56]          415,488\n",
      "│    │    └─Sequential: 3-3                        [1, 256, 28, 28]          131,584\n",
      "│    │    └─Sequential: 3-4                        [1, 256, 28, 28]          1,617,408\n",
      "│    │    └─Sequential: 3-5                        [1, 512, 14, 14]          525,312\n",
      "│    │    └─Sequential: 3-6                        [1, 512, 14, 14]          57,424,896\n",
      "│    │    └─Sequential: 3-7                        [1, 1024, 7, 7]           2,099,200\n",
      "│    │    └─Sequential: 3-8                        [1, 1024, 7, 7]           25,344,000\n",
      "│    └─AdaptiveAvgPool2d: 2-2                      [1, 1024, 1, 1]           --\n",
      "│    └─Sequential: 2-3                             [1, 1024]                 --\n",
      "│    │    └─LayerNorm2d: 3-9                       [1, 1024, 1, 1]           2,048\n",
      "│    │    └─Flatten: 3-10                          [1, 1024]                 --\n",
      "│    │    └─Identity: 3-11                         [1, 1024]                 --\n",
      "├─Sequential: 1-2                                  [1, 1024]                 --\n",
      "├─Sequential: 1-3                                  [1, 7]                    --\n",
      "│    └─Linear: 2-4                                 [1, 256]                  262,400\n",
      "│    └─Mish: 2-5                                   [1, 256]                  --\n",
      "│    └─Linear: 2-6                                 [1, 7]                    1,799\n",
      "│    └─Dropout: 2-7                                [1, 7]                    --\n",
      "====================================================================================================\n",
      "Total params: 87,830,663\n",
      "Trainable params: 87,830,663\n",
      "Non-trainable params: 0\n",
      "Total mult-adds (Units.MEGABYTES): 645.77\n",
      "====================================================================================================\n",
      "Input size (MB): 0.60\n",
      "Forward/backward pass size (MB): 276.18\n",
      "Params size (MB): 351.25\n",
      "Estimated Total Size (MB): 628.03\n",
      "====================================================================================================\n"
     ]
    },
    {
     "data": {
      "text/html": [
       "\n",
       "<style>\n",
       "    /* Turns off some styling */\n",
       "    progress {\n",
       "        /* gets rid of default border in Firefox and Opera. */\n",
       "        border: none;\n",
       "        /* Needs to be in here for Safari polyfill so background images work as expected. */\n",
       "        background-size: auto;\n",
       "    }\n",
       "    progress:not([value]), progress:not([value])::-webkit-progress-bar {\n",
       "        background: repeating-linear-gradient(45deg, #7e7e7e, #7e7e7e 10px, #5c5c5c 10px, #5c5c5c 20px);\n",
       "    }\n",
       "    .progress-bar-interrupted, .progress-bar-interrupted::-webkit-progress-bar {\n",
       "        background: #F44336;\n",
       "    }\n",
       "</style>\n"
      ],
      "text/plain": [
       "<IPython.core.display.HTML object>"
      ]
     },
     "metadata": {},
     "output_type": "display_data"
    },
    {
     "data": {
      "text/html": [
       "<table border=\"1\" class=\"dataframe\">\n",
       "  <thead>\n",
       "    <tr style=\"text-align: left;\">\n",
       "      <th>epoch</th>\n",
       "      <th>train_loss</th>\n",
       "      <th>valid_loss</th>\n",
       "      <th>accuracy</th>\n",
       "      <th>time</th>\n",
       "    </tr>\n",
       "  </thead>\n",
       "  <tbody>\n",
       "    <tr>\n",
       "      <td>0</td>\n",
       "      <td>1.899463</td>\n",
       "      <td>1.836837</td>\n",
       "      <td>0.314667</td>\n",
       "      <td>00:13</td>\n",
       "    </tr>\n",
       "    <tr>\n",
       "      <td>1</td>\n",
       "      <td>1.831891</td>\n",
       "      <td>1.724162</td>\n",
       "      <td>0.330667</td>\n",
       "      <td>00:14</td>\n",
       "    </tr>\n",
       "    <tr>\n",
       "      <td>2</td>\n",
       "      <td>1.770473</td>\n",
       "      <td>1.670537</td>\n",
       "      <td>0.374667</td>\n",
       "      <td>00:14</td>\n",
       "    </tr>\n",
       "    <tr>\n",
       "      <td>3</td>\n",
       "      <td>1.719314</td>\n",
       "      <td>1.610565</td>\n",
       "      <td>0.400000</td>\n",
       "      <td>00:14</td>\n",
       "    </tr>\n",
       "    <tr>\n",
       "      <td>4</td>\n",
       "      <td>1.668433</td>\n",
       "      <td>1.551160</td>\n",
       "      <td>0.426667</td>\n",
       "      <td>00:15</td>\n",
       "    </tr>\n",
       "    <tr>\n",
       "      <td>5</td>\n",
       "      <td>1.619287</td>\n",
       "      <td>1.499976</td>\n",
       "      <td>0.466667</td>\n",
       "      <td>00:18</td>\n",
       "    </tr>\n",
       "    <tr>\n",
       "      <td>6</td>\n",
       "      <td>1.569277</td>\n",
       "      <td>1.428716</td>\n",
       "      <td>0.489333</td>\n",
       "      <td>00:20</td>\n",
       "    </tr>\n",
       "    <tr>\n",
       "      <td>7</td>\n",
       "      <td>1.515641</td>\n",
       "      <td>1.395705</td>\n",
       "      <td>0.484000</td>\n",
       "      <td>00:20</td>\n",
       "    </tr>\n",
       "    <tr>\n",
       "      <td>8</td>\n",
       "      <td>1.474381</td>\n",
       "      <td>1.361900</td>\n",
       "      <td>0.513333</td>\n",
       "      <td>00:29</td>\n",
       "    </tr>\n",
       "    <tr>\n",
       "      <td>9</td>\n",
       "      <td>1.439487</td>\n",
       "      <td>1.368574</td>\n",
       "      <td>0.504000</td>\n",
       "      <td>00:34</td>\n",
       "    </tr>\n",
       "    <tr>\n",
       "      <td>10</td>\n",
       "      <td>1.406514</td>\n",
       "      <td>1.389252</td>\n",
       "      <td>0.468000</td>\n",
       "      <td>00:41</td>\n",
       "    </tr>\n",
       "    <tr>\n",
       "      <td>11</td>\n",
       "      <td>1.376777</td>\n",
       "      <td>1.356602</td>\n",
       "      <td>0.513333</td>\n",
       "      <td>00:46</td>\n",
       "    </tr>\n",
       "    <tr>\n",
       "      <td>12</td>\n",
       "      <td>1.349320</td>\n",
       "      <td>1.340613</td>\n",
       "      <td>0.520000</td>\n",
       "      <td>00:50</td>\n",
       "    </tr>\n",
       "    <tr>\n",
       "      <td>13</td>\n",
       "      <td>1.319844</td>\n",
       "      <td>1.375163</td>\n",
       "      <td>0.496000</td>\n",
       "      <td>00:56</td>\n",
       "    </tr>\n",
       "    <tr>\n",
       "      <td>14</td>\n",
       "      <td>1.296819</td>\n",
       "      <td>1.327098</td>\n",
       "      <td>0.520000</td>\n",
       "      <td>00:57</td>\n",
       "    </tr>\n",
       "    <tr>\n",
       "      <td>15</td>\n",
       "      <td>1.272546</td>\n",
       "      <td>1.337052</td>\n",
       "      <td>0.521333</td>\n",
       "      <td>01:01</td>\n",
       "    </tr>\n",
       "    <tr>\n",
       "      <td>16</td>\n",
       "      <td>1.255767</td>\n",
       "      <td>1.369395</td>\n",
       "      <td>0.506667</td>\n",
       "      <td>01:04</td>\n",
       "    </tr>\n",
       "    <tr>\n",
       "      <td>17</td>\n",
       "      <td>1.241550</td>\n",
       "      <td>1.392029</td>\n",
       "      <td>0.501333</td>\n",
       "      <td>01:09</td>\n",
       "    </tr>\n",
       "    <tr>\n",
       "      <td>18</td>\n",
       "      <td>1.228758</td>\n",
       "      <td>1.384972</td>\n",
       "      <td>0.505333</td>\n",
       "      <td>01:07</td>\n",
       "    </tr>\n",
       "    <tr>\n",
       "      <td>19</td>\n",
       "      <td>1.214307</td>\n",
       "      <td>1.344587</td>\n",
       "      <td>0.525333</td>\n",
       "      <td>01:10</td>\n",
       "    </tr>\n",
       "    <tr>\n",
       "      <td>20</td>\n",
       "      <td>1.198421</td>\n",
       "      <td>1.358456</td>\n",
       "      <td>0.520000</td>\n",
       "      <td>01:11</td>\n",
       "    </tr>\n",
       "    <tr>\n",
       "      <td>21</td>\n",
       "      <td>1.187784</td>\n",
       "      <td>1.340483</td>\n",
       "      <td>0.518667</td>\n",
       "      <td>01:14</td>\n",
       "    </tr>\n",
       "    <tr>\n",
       "      <td>22</td>\n",
       "      <td>1.173509</td>\n",
       "      <td>1.357233</td>\n",
       "      <td>0.517333</td>\n",
       "      <td>01:13</td>\n",
       "    </tr>\n",
       "  </tbody>\n",
       "</table>"
      ],
      "text/plain": [
       "<IPython.core.display.HTML object>"
      ]
     },
     "metadata": {},
     "output_type": "display_data"
    },
    {
     "name": "stdout",
     "output_type": "stream",
     "text": [
      "Better model found at epoch 0 with valid_loss value: 1.8368369340896606.\n"
     ]
    },
    {
     "data": {
      "image/png": "[encoded data removed]",
      "text/plain": [
       "<Figure size 600x400 with 1 Axes>"
      ]
     },
     "metadata": {},
     "output_type": "display_data"
    },
    {
     "name": "stdout",
     "output_type": "stream",
     "text": [
      "Better model found at epoch 1 with valid_loss value: 1.7241616249084473.\n",
      "Better model found at epoch 2 with valid_loss value: 1.670536756515503.\n",
      "Better model found at epoch 3 with valid_loss value: 1.610565423965454.\n",
      "Better model found at epoch 4 with valid_loss value: 1.551160454750061.\n",
      "Better model found at epoch 5 with valid_loss value: 1.4999759197235107.\n",
      "Better model found at epoch 6 with valid_loss value: 1.4287161827087402.\n",
      "Better model found at epoch 7 with valid_loss value: 1.395705223083496.\n",
      "Better model found at epoch 8 with valid_loss value: 1.361899733543396.\n",
      "Better model found at epoch 11 with valid_loss value: 1.3566020727157593.\n",
      "Better model found at epoch 12 with valid_loss value: 1.3406126499176025.\n",
      "Better model found at epoch 14 with valid_loss value: 1.32709801197052.\n",
      "No improvement since epoch 14: early stopping\n"
     ]
    }
   ],
   "source": [
    "from main import *\n",
    "learner = main(params, data, verbose=1)"
   ]
  },
  {
   "cell_type": "code",
   "execution_count": null,
   "metadata": {},
   "outputs": [],
   "source": []
  }
 ],
 "metadata": {
  "kernelspec": {
   "display_name": "Python 3",
   "language": "python",
   "name": "python3"
  },
  "language_info": {
   "codemirror_mode": {
    "name": "ipython",
    "version": 3
   },
   "file_extension": ".py",
   "mimetype": "text/x-python",
   "name": "python",
   "nbconvert_exporter": "python",
   "pygments_lexer": "ipython3",
   "version": "3.11.4"
  },
  "orig_nbformat": 4
 },
 "nbformat": 4,
 "nbformat_minor": 2
}
