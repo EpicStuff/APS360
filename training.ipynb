{
 "cells": [
  {
   "cell_type": "code",
   "execution_count": null,
   "metadata": {},
   "outputs": [],
   "source": [
    "from main import *"
   ]
  },
  {
   "cell_type": "code",
   "execution_count": null,
   "metadata": {},
   "outputs": [],
   "source": [
    "# load data\n",
    "data_train, data_val = load_data(compression='')"
   ]
  },
  {
   "cell_type": "code",
   "execution_count": null,
   "metadata": {},
   "outputs": [],
   "source": [
    "# reproducibility\n",
    "stuff.manual_seed(4, True)\n",
    "# hyperparameters, you should also tweak the layers in the model in `main.py`\n",
    "batch_size = 256\n",
    "num_epochs = 50\n",
    "loss = torch.nn.CrossEntropyLoss\n",
    "opt = torch.optim.Adam\n",
    "# parent = m.alexnet(weights='DEFAULT').features  # not the actual model but the model were transferring learning from\n",
    "parent = m.resnet18(weights='DEFAULT')  # to change the model to transfer learning from, just pick one from the link i sent you, take a look at the layers\n",
    "parent.fc = nn.Identity()  # remove or only select desired layers\n",
    "dropout_prob = 0.3\n",
    "# init model and train\n",
    "model = Model(dropout_prob, parent, 256 *6 *6)\n",
    "# training\n",
    "name = stuff.generate_name(batch_size, loss, opt, 'alexnet', dropout_prob)\n",
    "learner = train(name, model, num_epochs, batch_size, data_train, data_val, loss, opt)"
   ]
  }
 ],
 "metadata": {
  "kernelspec": {
   "display_name": "Python 3",
   "language": "python",
   "name": "python3"
  },
  "language_info": {
   "codemirror_mode": {
    "name": "ipython",
    "version": 3
   },
   "file_extension": ".py",
   "mimetype": "text/x-python",
   "name": "python",
   "nbconvert_exporter": "python",
   "pygments_lexer": "ipython3",
   "version": "3.10.8"
  },
  "orig_nbformat": 4
 },
 "nbformat": 4,
 "nbformat_minor": 2
}
